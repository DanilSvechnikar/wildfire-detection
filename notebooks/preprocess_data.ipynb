{
 "cells": [
  {
   "cell_type": "code",
   "id": "initial_id",
   "metadata": {
    "collapsed": true
   },
   "source": [
    "import cv2\n",
    "\n",
    "from pathlib import Path\n",
    "from tqdm import tqdm"
   ],
   "outputs": [],
   "execution_count": null
  },
  {
   "metadata": {},
   "cell_type": "code",
   "source": [
    "PROJECT_ROOT = Path().resolve().parents[0]\n",
    "\n",
    "TRAIN_DATA_DPATH = PROJECT_ROOT / \"data\" / \"raw\" / \"WildfireDataset\" / \"train\" / \"images\"\n",
    "VAL_DATA_DPATH = PROJECT_ROOT / \"data\" / \"raw\" / \"WildfireDataset\" / \"valid\" / \"images\"\n",
    "TEST_DATA_DPATH = PROJECT_ROOT / \"data\" / \"raw\" / \"WildfireDataset\" / \"test\" / \"images\"\n",
    "\n",
    "SAVE_TRAIN_DATA_DPATH = PROJECT_ROOT / \"data\" / \"processed\" / \"WildfireDataset\" / \"train\" / \"images\"\n",
    "SAVE_VAL_DATA_DPATH = PROJECT_ROOT / \"data\" / \"processed\" / \"WildfireDataset\" / \"valid\" / \"images\"\n",
    "SAVE_TEST_DATA_DPATH = PROJECT_ROOT / \"data\" / \"processed\" / \"WildfireDataset\" / \"test\" / \"images\"\n",
    "\n",
    "size_image = (640, 640)"
   ],
   "id": "f6a9700f2a268559",
   "outputs": [],
   "execution_count": null
  },
  {
   "metadata": {},
   "cell_type": "code",
   "source": [
    "stream = tqdm(list(TRAIN_DATA_DPATH.glob(\"*\")))\n",
    "for fpath in stream:\n",
    "    image = cv2.imread(str(fpath))\n",
    "    resized_image = cv2.resize(image, size_image)\n",
    "    cv2.imwrite(str(SAVE_TRAIN_DATA_DPATH / fpath.name), resized_image)"
   ],
   "id": "e3c045d037784658",
   "outputs": [],
   "execution_count": null
  },
  {
   "metadata": {},
   "cell_type": "code",
   "source": [
    "stream = tqdm(list(VAL_DATA_DPATH.glob(\"*\")))\n",
    "for fpath in stream:\n",
    "    image = cv2.imread(str(fpath))\n",
    "    resized_image = cv2.resize(image, size_image)\n",
    "    cv2.imwrite(str(SAVE_VAL_DATA_DPATH / fpath.name), resized_image)"
   ],
   "id": "9de409a5cebafcee",
   "outputs": [],
   "execution_count": null
  },
  {
   "metadata": {},
   "cell_type": "code",
   "source": [
    "stream = tqdm(list(TEST_DATA_DPATH.glob(\"*\")))\n",
    "for fpath in stream:\n",
    "    image = cv2.imread(str(fpath))\n",
    "    resized_image = cv2.resize(image, size_image)\n",
    "    cv2.imwrite(str(SAVE_TEST_DATA_DPATH / fpath.name), resized_image)"
   ],
   "id": "ed6f72229706ee56",
   "outputs": [],
   "execution_count": null
  },
  {
   "metadata": {},
   "cell_type": "code",
   "source": "",
   "id": "8ab587083eb35cc8",
   "outputs": [],
   "execution_count": null
  }
 ],
 "metadata": {
  "kernelspec": {
   "display_name": "Python 3",
   "language": "python",
   "name": "python3"
  },
  "language_info": {
   "codemirror_mode": {
    "name": "ipython",
    "version": 2
   },
   "file_extension": ".py",
   "mimetype": "text/x-python",
   "name": "python",
   "nbconvert_exporter": "python",
   "pygments_lexer": "ipython2",
   "version": "2.7.6"
  }
 },
 "nbformat": 4,
 "nbformat_minor": 5
}
