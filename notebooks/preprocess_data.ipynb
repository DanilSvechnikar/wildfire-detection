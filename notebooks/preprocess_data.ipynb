{
 "cells": [
  {
   "cell_type": "code",
   "id": "initial_id",
   "metadata": {
    "collapsed": true
   },
   "source": [
    "%load_ext autoreload\n",
    "%autoreload 2\n",
    "\n",
    "from tqdm import tqdm\n",
    "from pathlib import Path\n",
    "\n",
    "import pandas as pd\n",
    "\n",
    "from wildfire_detection.data.data_utils import (\n",
    "    resize_and_save_img,\n",
    "    modify_fpath,\n",
    "    copy_splitting,\n",
    ")"
   ],
   "outputs": [],
   "execution_count": null
  },
  {
   "metadata": {},
   "cell_type": "code",
   "source": "PROJECT_ROOT = Path().resolve().parents[0]",
   "id": "e5a6a27ace9c755e",
   "outputs": [],
   "execution_count": null
  },
  {
   "metadata": {},
   "cell_type": "markdown",
   "source": "## Resize Data",
   "id": "f0bdc2a48772de3f"
  },
  {
   "metadata": {},
   "cell_type": "code",
   "source": [
    "TRAIN_DATA_DPATH = PROJECT_ROOT / \"data\" / \"raw\" / \"WildfireDataset\" / \"train\" / \"images\"\n",
    "VAL_DATA_DPATH = PROJECT_ROOT / \"data\" / \"raw\" / \"WildfireDataset\" / \"valid\" / \"images\"\n",
    "TEST_DATA_DPATH = PROJECT_ROOT / \"data\" / \"raw\" / \"WildfireDataset\" / \"test\" / \"images\"\n",
    "\n",
    "SAVE_TRAIN_DATA_DPATH = PROJECT_ROOT / \"data\" / \"processed\" / \"WildfireDataset\" / \"train\" / \"images\"\n",
    "SAVE_VAL_DATA_DPATH = PROJECT_ROOT / \"data\" / \"processed\" / \"WildfireDataset\" / \"valid\" / \"images\"\n",
    "SAVE_TEST_DATA_DPATH = PROJECT_ROOT / \"data\" / \"processed\" / \"WildfireDataset\" / \"test\" / \"images\"\n",
    "\n",
    "size_image = (640, 640)"
   ],
   "id": "f6a9700f2a268559",
   "outputs": [],
   "execution_count": null
  },
  {
   "metadata": {},
   "cell_type": "code",
   "source": [
    "# # Train\n",
    "# train_stream = tqdm(list(TRAIN_DATA_DPATH.glob(\"*\")))\n",
    "# resize_and_save_img(train_stream, size_image, SAVE_TRAIN_DATA_DPATH)\n",
    "# \n",
    "# # Valid\n",
    "# valid_stream = tqdm(list(VAL_DATA_DPATH.glob(\"*\")))\n",
    "# resize_and_save_img(valid_stream, size_image, SAVE_VAL_DATA_DPATH)\n",
    "# \n",
    "# # Test\n",
    "# test_stream = tqdm(list(TEST_DATA_DPATH.glob(\"*\")))\n",
    "# resize_and_save_img(test_stream, size_image, SAVE_TEST_DATA_DPATH)"
   ],
   "id": "5bbcba2a1224549a",
   "outputs": [],
   "execution_count": null
  },
  {
   "metadata": {},
   "cell_type": "code",
   "source": "",
   "id": "8ab587083eb35cc8",
   "outputs": [],
   "execution_count": null
  },
  {
   "metadata": {},
   "cell_type": "markdown",
   "source": "## Splitting",
   "id": "7457944664c3314b"
  },
  {
   "metadata": {},
   "cell_type": "code",
   "source": [
    "DATASET_DPATH = PROJECT_ROOT / \"data\" / \"processed\" / \"FinalDataset\"\n",
    "\n",
    "IMG_FPATH = DATASET_DPATH / \"images\"\n",
    "LABELS_FPATH = DATASET_DPATH / \"labels\"\n",
    "\n",
    "TRAIN_DPATH = DATASET_DPATH / \"train\"\n",
    "VAL_DPATH = DATASET_DPATH / \"valid\"\n",
    "TEST_DPATH = DATASET_DPATH / \"test\""
   ],
   "id": "26bc8a63ee830c0",
   "outputs": [],
   "execution_count": null
  },
  {
   "metadata": {},
   "cell_type": "code",
   "source": [
    "images_fpath = list(IMG_FPATH.glob(\"*\"))\n",
    "labels_fpath = list(LABELS_FPATH.glob(\"*\"))\n",
    "\n",
    "len(images_fpath), len(labels_fpath)"
   ],
   "id": "83c97b50e8cc4c22",
   "outputs": [],
   "execution_count": null
  },
  {
   "metadata": {},
   "cell_type": "code",
   "source": [
    "pd_dataset = pd.DataFrame({\n",
    "    \"fpath\": [file for file in images_fpath],\n",
    "})"
   ],
   "id": "fd8d3195238c59cd",
   "outputs": [],
   "execution_count": null
  },
  {
   "metadata": {},
   "cell_type": "code",
   "source": "pd_dataset[\"fname\"] = pd_dataset[\"fpath\"].apply(modify_fpath)",
   "id": "b93a8d3ec2b25d9d",
   "outputs": [],
   "execution_count": null
  },
  {
   "metadata": {},
   "cell_type": "code",
   "source": [
    "train_df = pd_dataset.sample(frac=0.75, random_state=42)\n",
    "len(train_df)"
   ],
   "id": "82fc4957e887bb4c",
   "outputs": [],
   "execution_count": null
  },
  {
   "metadata": {},
   "cell_type": "code",
   "source": [
    "val_test_df = pd_dataset.drop(train_df.index)\n",
    "len(val_test_df)"
   ],
   "id": "b3272ddbc88497f7",
   "outputs": [],
   "execution_count": null
  },
  {
   "metadata": {},
   "cell_type": "code",
   "source": [
    "valid_df = val_test_df.sample(frac=0.40, random_state=42)\n",
    "len(valid_df)"
   ],
   "id": "1ce4d4e0697b262c",
   "outputs": [],
   "execution_count": null
  },
  {
   "metadata": {},
   "cell_type": "code",
   "source": [
    "test_df = val_test_df.drop(valid_df.index)\n",
    "len(test_df)"
   ],
   "id": "601a13da550a3a25",
   "outputs": [],
   "execution_count": null
  },
  {
   "metadata": {},
   "cell_type": "code",
   "source": [
    "# # Train\n",
    "# copy_splitting(train_df, IMG_FPATH, LABELS_FPATH, TRAIN_DPATH)\n",
    "# \n",
    "# # Valid\n",
    "# copy_splitting(valid_df, IMG_FPATH, LABELS_FPATH, VAL_DPATH)\n",
    "# \n",
    "# # Test\n",
    "# copy_splitting(test_df, IMG_FPATH, LABELS_FPATH, TEST_DPATH)"
   ],
   "id": "af539de26fa8cb9b",
   "outputs": [],
   "execution_count": null
  },
  {
   "metadata": {},
   "cell_type": "code",
   "source": "",
   "id": "3e1f80fc9560cc5b",
   "outputs": [],
   "execution_count": null
  }
 ],
 "metadata": {
  "kernelspec": {
   "display_name": "Python 3",
   "language": "python",
   "name": "python3"
  },
  "language_info": {
   "codemirror_mode": {
    "name": "ipython",
    "version": 2
   },
   "file_extension": ".py",
   "mimetype": "text/x-python",
   "name": "python",
   "nbconvert_exporter": "python",
   "pygments_lexer": "ipython2",
   "version": "2.7.6"
  }
 },
 "nbformat": 4,
 "nbformat_minor": 5
}
