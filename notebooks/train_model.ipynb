{
 "cells": [
  {
   "metadata": {},
   "cell_type": "code",
   "source": [
    "%load_ext autoreload\n",
    "%autoreload 2\n",
    "\n",
    "from pathlib import Path\n",
    "from ultralytics import YOLO\n",
    "from ultralytics import settings\n",
    "\n",
    "import torch\n",
    "import ultralytics"
   ],
   "id": "initial_id",
   "outputs": [],
   "execution_count": null
  },
  {
   "cell_type": "code",
   "source": [
    "print(torch.cuda.is_available())\n",
    "print(ultralytics.utils.checks.cuda_is_available())"
   ],
   "metadata": {
    "collapsed": false
   },
   "id": "446fe7ac89e6bc86",
   "outputs": [],
   "execution_count": null
  },
  {
   "cell_type": "markdown",
   "source": [
    "## Paths"
   ],
   "metadata": {
    "collapsed": false
   },
   "id": "db48f556cf70e341"
  },
  {
   "cell_type": "code",
   "source": [
    "PROJECT_ROOT = Path().resolve().parents[0]\n",
    "\n",
    "# Nano model: \"yolov8n\"\n",
    "# Small model: \"yolov8s\"\n",
    "# Medium model: \"yolov8m\"\n",
    "CHECKPOINT_FPATH = PROJECT_ROOT / \"models\" / \"yolov8n.pt\"\n",
    "DATA_FPATH = PROJECT_ROOT / \"data\" / \"processed\" / \"FinalDataset\"\n",
    "\n",
    "CONFIG_TRAIN_VAL_DATA = DATA_FPATH / \"train_val_data.yaml\"\n",
    "CONFIG_TEST_DATA = DATA_FPATH / \"test_data.yaml\""
   ],
   "metadata": {
    "collapsed": false
   },
   "id": "674efc688d9e9051",
   "outputs": [],
   "execution_count": null
  },
  {
   "cell_type": "code",
   "source": [
    "model = YOLO(CHECKPOINT_FPATH)\n",
    "# model.names\n",
    "# count_parameters(model)"
   ],
   "metadata": {
    "collapsed": false
   },
   "id": "a499a4cbefbb6f50",
   "outputs": [],
   "execution_count": null
  },
  {
   "cell_type": "markdown",
   "source": [
    "## Train"
   ],
   "metadata": {
    "collapsed": false
   },
   "id": "4f09e9f3de5c32a2"
  },
  {
   "metadata": {},
   "cell_type": "code",
   "source": [
    "train_parameters = {\n",
    "    \"data\": CONFIG_TRAIN_VAL_DATA,\n",
    "    \"device\": \"cuda\" if torch.cuda.is_available() else \"cpu\",\n",
    "    \"save_dir\": PROJECT_ROOT / \"runs\",\n",
    "    \"epochs\": 100,\n",
    "    \"batch\": 16, # 8 for small, 16 for nano\n",
    "    \"patience\": 4,\n",
    "    \"workers\": 0,\n",
    "    \"imgsz\": 640,\n",
    "    \"amp\": False, # False faster but lower accuracy\n",
    "    \"val\": False,\n",
    "    \"seed\": 0,\n",
    "    \"deterministic\": True,\n",
    "    \"dropout\": 0.0,\n",
    "    \"lr0\": 1.0e-2,\n",
    "    \"optimizer\": \"AdamW\",\n",
    "    \"dfl\": 0.0,\n",
    "    \"pretrained\": True,\n",
    "}"
   ],
   "id": "c635137d7396bb6c",
   "outputs": [],
   "execution_count": null
  },
  {
   "cell_type": "code",
   "source": [
    "torch.cuda.empty_cache()\n",
    "\n",
    "model.train(**train_parameters)\n"
   ],
   "metadata": {
    "collapsed": false
   },
   "id": "b62c3092befc445",
   "outputs": [],
   "execution_count": null
  },
  {
   "cell_type": "code",
   "source": [
    "model.ckpt_path"
   ],
   "metadata": {
    "collapsed": false
   },
   "id": "46c97c3b1383b6a5",
   "outputs": [],
   "execution_count": null
  },
  {
   "metadata": {},
   "cell_type": "code",
   "source": "",
   "id": "eaabbea1a7da0ac0",
   "outputs": [],
   "execution_count": null
  },
  {
   "cell_type": "markdown",
   "source": [
    "## Validate"
   ],
   "metadata": {
    "collapsed": false
   },
   "id": "aab7148095ab0a82"
  },
  {
   "cell_type": "code",
   "source": "model = YOLO(PROJECT_ROOT / \"runs\" / \"detect\" / \"train4\" / \"weights\" / \"best.pt\")",
   "metadata": {
    "collapsed": false
   },
   "id": "5591a29c3c284bda",
   "outputs": [],
   "execution_count": null
  },
  {
   "metadata": {},
   "cell_type": "code",
   "source": [
    "validate_parameters = {\n",
    "    \"data\": CONFIG_TRAIN_VAL_DATA,\n",
    "    \"device\": \"cuda\" if torch.cuda.is_available() else \"cpu\",\n",
    "    # \"iou\": 0.6,\n",
    "    # \"conf\": 0.001,\n",
    "    # \"plots\": True,\n",
    "}\n",
    "\n",
    "model.val(**validate_parameters)"
   ],
   "id": "523f95bb096e0b18",
   "outputs": [],
   "execution_count": null
  },
  {
   "metadata": {},
   "cell_type": "code",
   "source": "",
   "id": "7ec09ef00bc4e016",
   "outputs": [],
   "execution_count": null
  },
  {
   "metadata": {},
   "cell_type": "markdown",
   "source": "## Test Data",
   "id": "ba7587ee1032b0d4"
  },
  {
   "metadata": {},
   "cell_type": "code",
   "source": [
    "test_parameters = {\n",
    "    \"data\": CONFIG_TEST_DATA,\n",
    "    \"device\": \"cuda\" if torch.cuda.is_available() else \"cpu\",\n",
    "    # \"iou\": 0.6,\n",
    "    # \"conf\": 0.001,\n",
    "    # \"plots\": True,\n",
    "}\n",
    "\n",
    "model.val(**test_parameters)"
   ],
   "id": "59a4ddf423aa56e2",
   "outputs": [],
   "execution_count": null
  },
  {
   "metadata": {},
   "cell_type": "code",
   "source": "",
   "id": "74b155c3fbb3b6b9",
   "outputs": [],
   "execution_count": null
  },
  {
   "cell_type": "markdown",
   "source": "## Evaluate",
   "metadata": {
    "collapsed": false
   },
   "id": "71b4b6ed2b065940"
  },
  {
   "cell_type": "code",
   "source": "# res = model.predict(\"ForestFire.mp4\", stream=True)",
   "metadata": {
    "collapsed": false
   },
   "id": "1bb696f95cd9b47d",
   "outputs": [],
   "execution_count": null
  },
  {
   "metadata": {},
   "cell_type": "code",
   "source": [
    "# video_path = Path(\"ForestFire.mp4\")\n",
    "# video_path"
   ],
   "id": "1e0ceea047109080",
   "outputs": [],
   "execution_count": null
  },
  {
   "cell_type": "code",
   "source": [
    "# model.predict(\"ForestFire.mp4\", save=True)"
   ],
   "metadata": {
    "collapsed": false
   },
   "id": "655bc62ebed69317",
   "outputs": [],
   "execution_count": null
  },
  {
   "metadata": {},
   "cell_type": "code",
   "source": "",
   "id": "c46c343ba696ae8",
   "outputs": [],
   "execution_count": null
  }
 ],
 "metadata": {
  "kernelspec": {
   "display_name": "Python 3",
   "language": "python",
   "name": "python3"
  },
  "language_info": {
   "codemirror_mode": {
    "name": "ipython",
    "version": 2
   },
   "file_extension": ".py",
   "mimetype": "text/x-python",
   "name": "python",
   "nbconvert_exporter": "python",
   "pygments_lexer": "ipython2",
   "version": "2.7.6"
  }
 },
 "nbformat": 4,
 "nbformat_minor": 5
}
