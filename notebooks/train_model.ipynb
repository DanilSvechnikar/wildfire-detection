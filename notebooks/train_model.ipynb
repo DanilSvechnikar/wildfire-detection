{
 "cells": [
  {
   "cell_type": "code",
   "outputs": [],
   "source": [
    "%load_ext autoreload\n",
    "%autoreload 2"
   ],
   "metadata": {
    "collapsed": false
   },
   "id": "536126e1a48e8f00",
   "execution_count": null
  },
  {
   "cell_type": "code",
   "outputs": [],
   "source": [
    "from pathlib import Path\n",
    "\n",
    "import torch\n",
    "import ultralytics\n",
    "from ultralytics import YOLO\n",
    "\n",
    "from wildfire_detection.utils import count_parameters"
   ],
   "metadata": {
    "collapsed": true
   },
   "id": "initial_id",
   "execution_count": null
  },
  {
   "cell_type": "code",
   "outputs": [],
   "source": [
    "print(torch.cuda.is_available())\n",
    "print(ultralytics.utils.checks.cuda_is_available())"
   ],
   "metadata": {
    "collapsed": false
   },
   "id": "446fe7ac89e6bc86",
   "execution_count": null
  },
  {
   "cell_type": "markdown",
   "source": [
    "## Paths"
   ],
   "metadata": {
    "collapsed": false
   },
   "id": "db48f556cf70e341"
  },
  {
   "cell_type": "code",
   "outputs": [],
   "source": [
    "PROJECT_ROOT = Path().resolve().parents[0]\n",
    "\n",
    "CHECKPOINT_FPATH = PROJECT_ROOT / \"models\" / \"yolov8n.pt\"\n",
    "# CHECKPOINT_FPATH = PROJECT_ROOT / \"runs\" / \"detect\" / \"train2\" / \"weights\" / \"best.pt\"\n",
    "DATA_FPATH = PROJECT_ROOT / \"data\" / \"raw\" / \"FireDetection\"\n",
    "CONFIG_DATA = DATA_FPATH / \"data.yaml\""
   ],
   "metadata": {
    "collapsed": false
   },
   "id": "674efc688d9e9051",
   "execution_count": null
  },
  {
   "cell_type": "code",
   "outputs": [],
   "source": [],
   "metadata": {
    "collapsed": false
   },
   "id": "7872b201547131b2",
   "execution_count": null
  },
  {
   "cell_type": "code",
   "outputs": [],
   "source": [
    "model = YOLO(CHECKPOINT_FPATH)\n",
    "# model = YOLO(PROJECT_ROOT / \"runs\" / \"detect\" / \"train\" / \"weights\" / \"best.pt\")\n",
    "# model.names\n",
    "# count_parameters(model)"
   ],
   "metadata": {
    "collapsed": false
   },
   "id": "a499a4cbefbb6f50",
   "execution_count": null
  },
  {
   "cell_type": "code",
   "outputs": [],
   "source": [],
   "metadata": {
    "collapsed": false
   },
   "id": "f7ee8c4eea24fa4",
   "execution_count": null
  },
  {
   "cell_type": "markdown",
   "source": [
    "## Train"
   ],
   "metadata": {
    "collapsed": false
   },
   "id": "4f09e9f3de5c32a2"
  },
  {
   "cell_type": "code",
   "outputs": [],
   "source": [
    "device = \"cuda\" if torch.cuda.is_available() else \"cpu\"\n",
    "save_dir = PROJECT_ROOT / \"runs\"\n",
    "num_epochs = 3\n",
    "batch_size = 8\n",
    "num_workers = 0\n",
    "img_size = 416 # or 640 best\n",
    "amp_apply = False # False faster but lower accuracy\n",
    "\n",
    "model.train(\n",
    "    data=CONFIG_DATA, \n",
    "    epochs=num_epochs, \n",
    "    device=device, \n",
    "    save_dir=save_dir, \n",
    "    batch=batch_size,\n",
    "    amp=amp_apply,\n",
    "    workers=num_workers,\n",
    "    imgsz=img_size,\n",
    "    val=False,\n",
    "    # iou=0.5,\n",
    ")"
   ],
   "metadata": {
    "collapsed": false
   },
   "id": "b62c3092befc445",
   "execution_count": null
  },
  {
   "cell_type": "code",
   "outputs": [],
   "source": [
    "model.ckpt_path"
   ],
   "metadata": {
    "collapsed": false
   },
   "id": "46c97c3b1383b6a5",
   "execution_count": null
  },
  {
   "cell_type": "markdown",
   "source": [
    "## Validate"
   ],
   "metadata": {
    "collapsed": false
   },
   "id": "aab7148095ab0a82"
  },
  {
   "cell_type": "code",
   "outputs": [],
   "source": [
    "model = YOLO(PROJECT_ROOT / \"runs\" / \"detect\" / \"train\" / \"weights\" / \"best.pt\")"
   ],
   "metadata": {
    "collapsed": false
   },
   "id": "5591a29c3c284bda",
   "execution_count": null
  },
  {
   "cell_type": "code",
   "outputs": [],
   "source": [
    "model.val()"
   ],
   "metadata": {
    "collapsed": false
   },
   "id": "42541ab4d93f8c23",
   "execution_count": null
  },
  {
   "cell_type": "code",
   "outputs": [],
   "source": [],
   "metadata": {
    "collapsed": false
   },
   "id": "4d95a4a5ee58fc92",
   "execution_count": null
  },
  {
   "cell_type": "markdown",
   "source": [
    "## Test"
   ],
   "metadata": {
    "collapsed": false
   },
   "id": "71b4b6ed2b065940"
  },
  {
   "cell_type": "code",
   "outputs": [],
   "source": [
    "model.predict(\"test2.jpg\", save=True)"
   ],
   "metadata": {
    "collapsed": false
   },
   "id": "1bb696f95cd9b47d",
   "execution_count": null
  },
  {
   "cell_type": "code",
   "outputs": [],
   "source": [
    "# model.predict(\"ForestFire.mp4\", save=True)"
   ],
   "metadata": {
    "collapsed": false
   },
   "id": "655bc62ebed69317",
   "execution_count": null
  },
  {
   "cell_type": "code",
   "outputs": [],
   "source": [
    "# for result in res:\n",
    "#     boxes = result.boxes\n",
    "#     result.show()\n",
    "#     result.save(filename='result.jpg')"
   ],
   "metadata": {
    "collapsed": false
   },
   "id": "d6b1c1453e67ee0",
   "execution_count": null
  },
  {
   "cell_type": "code",
   "outputs": [],
   "source": [],
   "metadata": {
    "collapsed": false
   },
   "id": "acbb06270c55e273",
   "execution_count": null
  },
  {
   "cell_type": "code",
   "outputs": [],
   "source": [],
   "metadata": {
    "collapsed": false
   },
   "id": "19981130eb3f0b50"
  }
 ],
 "metadata": {
  "kernelspec": {
   "display_name": "Python 3",
   "language": "python",
   "name": "python3"
  },
  "language_info": {
   "codemirror_mode": {
    "name": "ipython",
    "version": 2
   },
   "file_extension": ".py",
   "mimetype": "text/x-python",
   "name": "python",
   "nbconvert_exporter": "python",
   "pygments_lexer": "ipython2",
   "version": "2.7.6"
  }
 },
 "nbformat": 4,
 "nbformat_minor": 5
}
