{
 "cells": [
  {
   "cell_type": "code",
   "outputs": [
    {
     "name": "stdout",
     "output_type": "stream",
     "text": [
      "The autoreload extension is already loaded. To reload it, use:\n",
      "  %reload_ext autoreload\n"
     ]
    }
   ],
   "source": [
    "%load_ext autoreload\n",
    "%autoreload 2"
   ],
   "metadata": {
    "collapsed": false,
    "ExecuteTime": {
     "end_time": "2024-03-09T15:45:04.430046Z",
     "start_time": "2024-03-09T15:45:04.333979Z"
    }
   },
   "id": "536126e1a48e8f00",
   "execution_count": 33
  },
  {
   "cell_type": "code",
   "outputs": [],
   "source": [
    "from pathlib import Path\n",
    "from ultralytics import YOLO\n",
    "\n",
    "from wildfire_detection.utils import count_parameters"
   ],
   "metadata": {
    "collapsed": true,
    "ExecuteTime": {
     "end_time": "2024-03-09T15:51:00.413522Z",
     "start_time": "2024-03-09T15:51:00.318447Z"
    }
   },
   "id": "initial_id",
   "execution_count": 42
  },
  {
   "cell_type": "code",
   "outputs": [],
   "source": [
    "# model = YOLO(\"yolov8n.pt\")\n",
    "model = YOLO(\"yolov8n.yaml\")"
   ],
   "metadata": {
    "collapsed": false,
    "ExecuteTime": {
     "end_time": "2024-03-09T15:48:34.640700Z",
     "start_time": "2024-03-09T15:48:34.354065Z"
    }
   },
   "id": "7872b201547131b2",
   "execution_count": 38
  },
  {
   "cell_type": "code",
   "outputs": [],
   "source": [
    "PROJECT_ROOT = Path().resolve().parents[0]"
   ],
   "metadata": {
    "collapsed": false,
    "ExecuteTime": {
     "end_time": "2024-03-09T15:51:17.817577Z",
     "start_time": "2024-03-09T15:51:17.733780Z"
    }
   },
   "id": "b62c3092befc445",
   "execution_count": 45
  },
  {
   "cell_type": "code",
   "outputs": [
    {
     "data": {
      "text/plain": "WindowsPath('C:/Users/svech/Desktop/Programming/Python/PyCharm projects/wildfire-detection/data/raw')"
     },
     "execution_count": 48,
     "metadata": {},
     "output_type": "execute_result"
    }
   ],
   "source": [
    "PROJECT_ROOT / \"data\" / \"raw\""
   ],
   "metadata": {
    "collapsed": false,
    "ExecuteTime": {
     "end_time": "2024-03-09T15:52:10.065747Z",
     "start_time": "2024-03-09T15:52:09.978783Z"
    }
   },
   "id": "be7a650c95fb8916",
   "execution_count": 48
  }
 ],
 "metadata": {
  "kernelspec": {
   "display_name": "Python 3",
   "language": "python",
   "name": "python3"
  },
  "language_info": {
   "codemirror_mode": {
    "name": "ipython",
    "version": 2
   },
   "file_extension": ".py",
   "mimetype": "text/x-python",
   "name": "python",
   "nbconvert_exporter": "python",
   "pygments_lexer": "ipython2",
   "version": "2.7.6"
  }
 },
 "nbformat": 4,
 "nbformat_minor": 5
}
