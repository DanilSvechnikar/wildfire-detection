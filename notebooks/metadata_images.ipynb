{
 "cells": [
  {
   "metadata": {},
   "cell_type": "code",
   "source": [
    "%load_ext autoreload\n",
    "%autoreload 2\n",
    "\n",
    "from pathlib import Path\n",
    "\n",
    "import webbrowser\n",
    "\n",
    "from wildfire_detection.data.data_utils import (\n",
    "    get_coords_location\n",
    ")"
   ],
   "id": "d35105740529f17f",
   "execution_count": null,
   "outputs": []
  },
  {
   "metadata": {},
   "cell_type": "code",
   "source": [
    "PROJECT_ROOT = Path().resolve().parents[0]\n",
    "DATA_DPATH = PROJECT_ROOT / \"data\" / \"test\""
   ],
   "id": "7c037de32ccd98e5",
   "execution_count": null,
   "outputs": []
  },
  {
   "metadata": {},
   "cell_type": "code",
   "source": [
    "img_fpath = DATA_DPATH / \"test_1.jpg\"\n",
    "\n",
    "decimal_latitude, decimal_longitude = get_coords_location(img_fpath)\n",
    "decimal_latitude, decimal_longitude"
   ],
   "id": "9692d6275df58d54",
   "execution_count": null,
   "outputs": []
  },
  {
   "metadata": {},
   "cell_type": "code",
   "source": [
    "url = f\"https://www.google.com/maps?q={decimal_latitude},{decimal_longitude}\"\n",
    "webbrowser.open_new_tab(url)"
   ],
   "id": "9cd9d5fd5a43bbfb",
   "execution_count": null,
   "outputs": []
  },
  {
   "metadata": {},
   "cell_type": "code",
   "source": "",
   "id": "f3893dd1ec1145ff",
   "execution_count": null,
   "outputs": []
  }
 ],
 "metadata": {
  "kernelspec": {
   "display_name": "Python 3",
   "language": "python",
   "name": "python3"
  },
  "language_info": {
   "codemirror_mode": {
    "name": "ipython",
    "version": 2
   },
   "file_extension": ".py",
   "mimetype": "text/x-python",
   "name": "python",
   "nbconvert_exporter": "python",
   "pygments_lexer": "ipython2",
   "version": "2.7.6"
  }
 },
 "nbformat": 4,
 "nbformat_minor": 5
}
